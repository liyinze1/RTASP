{
 "cells": [
  {
   "cell_type": "code",
   "execution_count": null,
   "metadata": {},
   "outputs": [],
   "source": [
    "import socket\n",
    "\n",
    "UDP_IP = \"0.0.0.0\"\n",
    "UDP_PORT = 23000\n",
    "\n",
    "sock = socket.socket(socket.AF_INET, # Internet\n",
    "                     socket.SOCK_DGRAM) # UDP\n",
    "sock.bind((UDP_IP, UDP_PORT))\n",
    "\n",
    "t = 0\n",
    "\n",
    "flag = True\n",
    "\n",
    "sock.settimeout(5)\n",
    "\n",
    "sock.setsockopt( \n",
    "        socket.SOL_SOCKET, \n",
    "        socket.SO_RCVBUF, \n",
    "        16384)\n",
    "\n",
    "while True:\n",
    "    try:\n",
    "        # data, addr = sock.recvfrom(128)\n",
    "        print(sock.recvfrom(16384))\n",
    "        print('end')\n",
    "        # print(type(data))\n",
    "        # break\n",
    "    except:\n",
    "        break\n",
    "    # if flag:\n",
    "    #     flag = False\n",
    "    #     timeout = time.time() + 10\n",
    "    # print(\"received message: %s\" % data)\n",
    "    # break\n",
    "\n",
    "print(t)"
   ]
  },
  {
   "cell_type": "code",
   "execution_count": 1,
   "metadata": {},
   "outputs": [
    {
     "name": "stdout",
     "output_type": "stream",
     "text": [
      "['a']\n"
     ]
    },
    {
     "name": "stdout",
     "output_type": "stream",
     "text": [
      "count-----\n",
      "count-----\n",
      "count-----\n",
      "count-----\n"
     ]
    }
   ],
   "source": [
    "from threading import Thread\n",
    "import time\n",
    "\n",
    "class A:\n",
    "    \n",
    "    def __init__(self):\n",
    "        self.array = []\n",
    "        thread_a = Thread(target = self.a)\n",
    "        thread_b = Thread(target = self.b)\n",
    "        thread_b.start()\n",
    "        thread_a.start()\n",
    "    \n",
    "    def a(self):\n",
    "        self.array.append('a')\n",
    "        print(self.array)\n",
    "        \n",
    "    def b(self):\n",
    "        thread_c = Thread(target = self.c)\n",
    "        thread_c.start()\n",
    "        \n",
    "    def c(self):\n",
    "        while True:\n",
    "            time.sleep(2)\n",
    "            print('count-----')\n",
    "        \n",
    "a = A()"
   ]
  },
  {
   "cell_type": "code",
   "execution_count": 1,
   "metadata": {},
   "outputs": [
    {
     "name": "stdout",
     "output_type": "stream",
     "text": [
      "already received 0 packets from ('127.0.0.1', 53302)\n",
      "already received 100 packets from ('127.0.0.1', 53302)\n",
      "already received 200 packets from ('127.0.0.1', 53302)\n",
      "already received 300 packets from ('127.0.0.1', 53302)\n",
      "already received 400 packets from ('127.0.0.1', 53302)\n"
     ]
    }
   ],
   "source": [
    "from RTASP import *\n",
    "import time\n",
    "\n",
    "receiver = RTASP_receiver('0.0.0.0')\n",
    "receiver.start_receive()\n",
    "\n",
    "# while True:\n",
    "#     time.sleep(1)\n",
    "#     for addr in receiver.data_dict.keys():\n",
    "#         print(addr, len(receiver.data_dict[addr]))"
   ]
  }
 ],
 "metadata": {
  "kernelspec": {
   "display_name": "base",
   "language": "python",
   "name": "python3"
  },
  "language_info": {
   "codemirror_mode": {
    "name": "ipython",
    "version": 3
   },
   "file_extension": ".py",
   "mimetype": "text/x-python",
   "name": "python",
   "nbconvert_exporter": "python",
   "pygments_lexer": "ipython3",
   "version": "3.9.2"
  },
  "orig_nbformat": 4
 },
 "nbformat": 4,
 "nbformat_minor": 2
}
