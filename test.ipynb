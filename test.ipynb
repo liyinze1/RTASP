{
 "cells": [
  {
   "cell_type": "code",
   "execution_count": 9,
   "metadata": {},
   "outputs": [
    {
     "name": "stdout",
     "output_type": "stream",
     "text": [
      "b'Hallo' ('127.0.0.1', 23000)\n",
      "b'Hallo' ('127.0.0.1', 23000)\n",
      "b'Hallo' ('127.0.0.1', 23000)\n",
      "b'Hallo' ('127.0.0.1', 23000)\n",
      "b'Hallo' ('127.0.0.1', 23000)\n",
      "b'Hallo' ('127.0.0.1', 23000)\n",
      "b'Hallo' ('127.0.0.1', 23000)\n",
      "b'Hallo' ('127.0.0.1', 23000)\n"
     ]
    }
   ],
   "source": [
    "import socket\n",
    "\n",
    "UDP_IP = \"0.0.0.0\"\n",
    "UDP_PORT = 23001\n",
    "\n",
    "sock = socket.socket(socket.AF_INET, # Internet\n",
    "                     socket.SOCK_DGRAM) # UDP\n",
    "sock.bind((UDP_IP, UDP_PORT))\n",
    "\n",
    "# t = 0\n",
    "\n",
    "# flag = True\n",
    "\n",
    "# sock.settimeout(5)\n",
    "\n",
    "# sock.setsockopt( \n",
    "#         socket.SOL_SOCKET, \n",
    "#         socket.SO_RCVBUF, \n",
    "#         16384)\n",
    "# data_list = []\n",
    "while True:\n",
    "    try:\n",
    "        # data, addr = sock.recvfrom(128)\n",
    "        data, addr = sock.recvfrom(16384)\n",
    "        # data_list.append(data)\n",
    "        print(data, addr)\n",
    "        # print(type(data))\n",
    "        # break\n",
    "    except:\n",
    "        break\n",
    "    # if flag:\n",
    "    #     flag = False\n",
    "    #     timeout = time.time() + 10\n",
    "    # print(\"received message: %s\" % data)\n",
    "    # break\n"
   ]
  },
  {
   "cell_type": "code",
   "execution_count": null,
   "metadata": {},
   "outputs": [],
   "source": [
    "from RTASP import *\n",
    "import time\n",
    "\n",
    "receiver = RTASP_receiver('0.0.0.0')\n",
    "receiver.start_receive()\n",
    "\n",
    "# while True:\n",
    "#     time.sleep(1)\n",
    "#     for addr in receiver.data_dict.keys():\n",
    "#         print(addr, len(receiver.data_dict[addr]))"
   ]
  },
  {
   "cell_type": "code",
   "execution_count": 1,
   "metadata": {},
   "outputs": [
    {
     "data": {
      "text/plain": [
       "'Yinzes-MacBook-Air.local'"
      ]
     },
     "execution_count": 1,
     "metadata": {},
     "output_type": "execute_result"
    }
   ],
   "source": [
    "import socket\n",
    "\n",
    "socket.gethostname()"
   ]
  },
  {
   "cell_type": "code",
   "execution_count": 1,
   "metadata": {},
   "outputs": [
    {
     "name": "stdout",
     "output_type": "stream",
     "text": [
      "b'\\x83\\x01\\x02\\x03'\n",
      "[1, 2, 3]\n"
     ]
    }
   ],
   "source": [
    "import cbor2\n",
    "\n",
    "data = [1,2,3]\n",
    "\n",
    "encoded = cbor2.dumps(data)\n",
    "\n",
    "print(encoded)\n",
    "\n",
    "print(cbor2.loads(encoded))\n"
   ]
  },
  {
   "cell_type": "code",
   "execution_count": 4,
   "metadata": {},
   "outputs": [
    {
     "data": {
      "text/plain": [
       "{'b': 1, 'c': 1, 't': <Thread(Thread-7 (f), initial)>}"
      ]
     },
     "execution_count": 4,
     "metadata": {},
     "output_type": "execute_result"
    }
   ],
   "source": [
    "from threading import Thread\n",
    "\n",
    "def f():\n",
    "    pass\n",
    "\n",
    "class A:\n",
    "    def __init__(self):\n",
    "        self.b = 1\n",
    "        self.c = 1\n",
    "        self.t = Thread(target=f)\n",
    "        \n",
    "        \n",
    "    def d(self):\n",
    "        return self.__dict__\n",
    "\n",
    "a = A()\n",
    "a.d()\n",
    "        "
   ]
  },
  {
   "cell_type": "code",
   "execution_count": 8,
   "metadata": {},
   "outputs": [
    {
     "name": "stdout",
     "output_type": "stream",
     "text": [
      "b'\\xe9'\n",
      "b'i'\n"
     ]
    }
   ],
   "source": [
    "print(int.to_bytes(233, 1))\n",
    "print(int.to_bytes(233 - 128, 1))"
   ]
  },
  {
   "cell_type": "code",
   "execution_count": 10,
   "metadata": {},
   "outputs": [
    {
     "data": {
      "text/plain": [
       "True"
      ]
     },
     "execution_count": 10,
     "metadata": {},
     "output_type": "execute_result"
    }
   ],
   "source": [
    "a = (1,2)\n",
    "b = (1,2)\n",
    "\n",
    "a == b"
   ]
  },
  {
   "cell_type": "markdown",
   "metadata": {},
   "source": []
  },
  {
   "cell_type": "code",
   "execution_count": 19,
   "metadata": {},
   "outputs": [
    {
     "name": "stdout",
     "output_type": "stream",
     "text": [
      "waiting\n",
      "try to notify\n"
     ]
    },
    {
     "name": "stdout",
     "output_type": "stream",
     "text": [
      "pass\n"
     ]
    }
   ],
   "source": [
    "import threading\n",
    "import time\n",
    "\n",
    "n = 0\n",
    "\n",
    "c = threading.Condition()\n",
    "\n",
    "def a():\n",
    "    c.acquire()\n",
    "    print('waiting')\n",
    "    c.wait_for(lambda:n == 100, timeout=10)\n",
    "    c.release()\n",
    "    print('pass')\n",
    "    \n",
    "    \n",
    "def b():\n",
    "    time.sleep(1)\n",
    "    c.acquire()\n",
    "    print('try to notify')\n",
    "    n = 100\n",
    "    c.notify()\n",
    "    c.release()\n",
    "    \n",
    "c = threading.Condition()\n",
    "t = threading.Thread(target = a)\n",
    "t.start()\n",
    "b()"
   ]
  },
  {
   "cell_type": "code",
   "execution_count": 3,
   "metadata": {},
   "outputs": [],
   "source": [
    "a = [1, 2, 3]\n",
    "b = a[3:]"
   ]
  },
  {
   "cell_type": "code",
   "execution_count": 10,
   "metadata": {},
   "outputs": [
    {
     "data": {
      "text/plain": [
       "'a'"
      ]
     },
     "execution_count": 10,
     "metadata": {},
     "output_type": "execute_result"
    }
   ],
   "source": [
    "import cbor2\n",
    "\n",
    "cbor2.loads()"
   ]
  },
  {
   "cell_type": "code",
   "execution_count": 14,
   "metadata": {},
   "outputs": [
    {
     "name": "stdout",
     "output_type": "stream",
     "text": [
      "done\n"
     ]
    }
   ],
   "source": [
    "import threading\n",
    "import time\n",
    "\n",
    "def t():\n",
    "    time.sleep(4)\n",
    "    print('done')\n",
    "\n",
    "def f():\n",
    "    th = threading.Thread(target = t)\n",
    "    th.start()\n",
    "    \n",
    "f()"
   ]
  },
  {
   "cell_type": "code",
   "execution_count": 10,
   "metadata": {},
   "outputs": [],
   "source": [
    "import sender\n",
    "\n",
    "sensor = sender.random_sensor(0, 128, 0)"
   ]
  },
  {
   "cell_type": "code",
   "execution_count": 10,
   "metadata": {},
   "outputs": [
    {
     "ename": "SyntaxError",
     "evalue": "invalid syntax (4269162923.py, line 2)",
     "output_type": "error",
     "traceback": [
      "\u001b[0;36m  Cell \u001b[0;32mIn[10], line 2\u001b[0;36m\u001b[0m\n\u001b[0;31m    a %%= 128\u001b[0m\n\u001b[0m       ^\u001b[0m\n\u001b[0;31mSyntaxError\u001b[0m\u001b[0;31m:\u001b[0m invalid syntax\n"
     ]
    }
   ],
   "source": [
    "a = 1\n",
    "a %= 128\n",
    "a"
   ]
  },
  {
   "cell_type": "code",
   "execution_count": null,
   "metadata": {},
   "outputs": [],
   "source": []
  }
 ],
 "metadata": {
  "kernelspec": {
   "display_name": "base",
   "language": "python",
   "name": "python3"
  },
  "language_info": {
   "codemirror_mode": {
    "name": "ipython",
    "version": 3
   },
   "file_extension": ".py",
   "mimetype": "text/x-python",
   "name": "python",
   "nbconvert_exporter": "python",
   "pygments_lexer": "ipython3",
   "version": "3.11.5"
  },
  "orig_nbformat": 4
 },
 "nbformat": 4,
 "nbformat_minor": 2
}
