{
 "cells": [
  {
   "cell_type": "code",
   "execution_count": 2,
   "metadata": {},
   "outputs": [
    {
     "name": "stdout",
     "output_type": "stream",
     "text": [
      "5760000\n"
     ]
    }
   ],
   "source": [
    "import socket\n",
    "import time\n",
    "\n",
    "UDP_IP = \"0.0.0.0\"\n",
    "UDP_PORT = 23000\n",
    "\n",
    "sock = socket.socket(socket.AF_INET, # Internet\n",
    "                     socket.SOCK_DGRAM) # UDP\n",
    "sock.bind((UDP_IP, UDP_PORT))\n",
    "\n",
    "t = 0\n",
    "\n",
    "flag = True\n",
    "\n",
    "sock.settimeout(5)\n",
    "\n",
    "sock.setsockopt( \n",
    "        socket.SOL_SOCKET, \n",
    "        socket.SO_RCVBUF, \n",
    "        16384)\n",
    "\n",
    "while True:\n",
    "    try:\n",
    "        # data, addr = sock.recvfrom(128)\n",
    "        data, addr = sock.recvfrom(2048)\n",
    "        # print(type(data))\n",
    "        # break\n",
    "    except:\n",
    "        break\n",
    "    # if flag:\n",
    "    #     flag = False\n",
    "    #     timeout = time.time() + 10\n",
    "    # print(\"received message: %s\" % data)\n",
    "    # break\n",
    "    t += len(data)\n",
    "\n",
    "print(t)"
   ]
  },
  {
   "cell_type": "code",
   "execution_count": 11,
   "metadata": {},
   "outputs": [],
   "source": [
    "import subprocess\n",
    "import numpy as np\n",
    "import shlex\n",
    "\n",
    "# init command\n",
    "cmd = 'cat test.wav'\n",
    "\n",
    "cmd = shlex.split(cmd)\n",
    "\n",
    "# excute ffmpeg command\n",
    "pipe = subprocess.run(cmd, stdout=subprocess.PIPE, stderr=subprocess.PIPE) #, shell=True)\n",
    "\n",
    "# debug\n"
   ]
  },
  {
   "cell_type": "code",
   "execution_count": 12,
   "metadata": {},
   "outputs": [
    {
     "data": {
      "text/plain": [
       "7680044"
      ]
     },
     "execution_count": 12,
     "metadata": {},
     "output_type": "execute_result"
    }
   ],
   "source": [
    "len(pipe.stdout)"
   ]
  },
  {
   "cell_type": "code",
   "execution_count": null,
   "metadata": {},
   "outputs": [],
   "source": []
  }
 ],
 "metadata": {
  "kernelspec": {
   "display_name": "base",
   "language": "python",
   "name": "python3"
  },
  "language_info": {
   "codemirror_mode": {
    "name": "ipython",
    "version": 3
   },
   "file_extension": ".py",
   "mimetype": "text/x-python",
   "name": "python",
   "nbconvert_exporter": "python",
   "pygments_lexer": "ipython3",
   "version": "3.9.2"
  },
  "orig_nbformat": 4
 },
 "nbformat": 4,
 "nbformat_minor": 2
}
