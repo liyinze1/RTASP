{
 "cells": [
  {
   "cell_type": "code",
   "execution_count": 4,
   "metadata": {},
   "outputs": [
    {
     "name": "stdout",
     "output_type": "stream",
     "text": [
      "('127.0.0.1', 64911)\n",
      "('127.0.0.1', 64911)\n",
      "('127.0.0.1', 64911)\n",
      "('127.0.0.1', 64911)\n",
      "('127.0.0.1', 64911)\n",
      "('127.0.0.1', 64911)\n"
     ]
    }
   ],
   "source": [
    "import socket\n",
    "\n",
    "UDP_IP = \"0.0.0.0\"\n",
    "UDP_PORT = 23000\n",
    "\n",
    "sock = socket.socket(socket.AF_INET, # Internet\n",
    "                     socket.SOCK_DGRAM) # UDP\n",
    "sock.bind((UDP_IP, UDP_PORT))\n",
    "\n",
    "t = 0\n",
    "\n",
    "flag = True\n",
    "\n",
    "sock.settimeout(5)\n",
    "\n",
    "sock.setsockopt( \n",
    "        socket.SOL_SOCKET, \n",
    "        socket.SO_RCVBUF, \n",
    "        16384)\n",
    "data_list = []\n",
    "while True:\n",
    "    try:\n",
    "        # data, addr = sock.recvfrom(128)\n",
    "        data, addr = sock.recvfrom(16384)\n",
    "        data_list.append(data)\n",
    "        print(addr)\n",
    "        # print(type(data))\n",
    "        # break\n",
    "    except:\n",
    "        break\n",
    "    # if flag:\n",
    "    #     flag = False\n",
    "    #     timeout = time.time() + 10\n",
    "    # print(\"received message: %s\" % data)\n",
    "    # break\n"
   ]
  },
  {
   "cell_type": "code",
   "execution_count": null,
   "metadata": {},
   "outputs": [],
   "source": [
    "from RTASP import *\n",
    "import time\n",
    "\n",
    "receiver = RTASP_receiver('0.0.0.0')\n",
    "receiver.start_receive()\n",
    "\n",
    "# while True:\n",
    "#     time.sleep(1)\n",
    "#     for addr in receiver.data_dict.keys():\n",
    "#         print(addr, len(receiver.data_dict[addr]))"
   ]
  },
  {
   "cell_type": "code",
   "execution_count": 1,
   "metadata": {},
   "outputs": [
    {
     "data": {
      "text/plain": [
       "'Yinzes-MacBook-Air.local'"
      ]
     },
     "execution_count": 1,
     "metadata": {},
     "output_type": "execute_result"
    }
   ],
   "source": [
    "import socket\n",
    "\n",
    "socket.gethostname()"
   ]
  },
  {
   "cell_type": "code",
   "execution_count": 1,
   "metadata": {},
   "outputs": [
    {
     "name": "stdout",
     "output_type": "stream",
     "text": [
      "b'\\x83\\x01\\x02\\x03'\n",
      "[1, 2, 3]\n"
     ]
    }
   ],
   "source": [
    "import cbor2\n",
    "\n",
    "data = [1,2,3]\n",
    "\n",
    "encoded = cbor2.dumps(data)\n",
    "\n",
    "print(encoded)\n",
    "\n",
    "print(cbor2.loads(encoded))\n"
   ]
  },
  {
   "cell_type": "code",
   "execution_count": 2,
   "metadata": {},
   "outputs": [
    {
     "data": {
      "text/plain": [
       "{'23': 23}"
      ]
     },
     "execution_count": 2,
     "metadata": {},
     "output_type": "execute_result"
    }
   ],
   "source": []
  },
  {
   "cell_type": "code",
   "execution_count": 6,
   "metadata": {},
   "outputs": [
    {
     "data": {
      "text/plain": [
       "b'\\x01'"
      ]
     },
     "execution_count": 6,
     "metadata": {},
     "output_type": "execute_result"
    }
   ],
   "source": [
    "int.to_bytes(1)"
   ]
  },
  {
   "cell_type": "code",
   "execution_count": null,
   "metadata": {},
   "outputs": [],
   "source": []
  }
 ],
 "metadata": {
  "kernelspec": {
   "display_name": "base",
   "language": "python",
   "name": "python3"
  },
  "language_info": {
   "codemirror_mode": {
    "name": "ipython",
    "version": 3
   },
   "file_extension": ".py",
   "mimetype": "text/x-python",
   "name": "python",
   "nbconvert_exporter": "python",
   "pygments_lexer": "ipython3",
   "version": "3.11.5"
  },
  "orig_nbformat": 4
 },
 "nbformat": 4,
 "nbformat_minor": 2
}
