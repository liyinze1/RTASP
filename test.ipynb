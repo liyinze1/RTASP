{
 "cells": [
  {
   "cell_type": "markdown",
   "metadata": {},
   "source": []
  },
  {
   "cell_type": "code",
   "execution_count": null,
   "metadata": {},
   "outputs": [],
   "source": [
    "from RTASP import *\n",
    "\n"
   ]
  },
  {
   "cell_type": "code",
   "execution_count": 7,
   "metadata": {},
   "outputs": [],
   "source": [
    "f = open('SoRTES23.csv', 'r')\n",
    "\n",
    "buf = ''\n",
    "\n",
    "i = 1\n",
    "\n",
    "for line in f.read().splitlines():\n",
    "    words = line.split(',')\n",
    "    for j in range(4): \n",
    "        buf += str(i) + ',' + words[2*j] + ',' + words[2*j+1] + '\\n'\n",
    "    i += 1\n",
    "    \n",
    "f.close()\n",
    "f = open('name_list.csv', 'w')\n",
    "f.write(buf)\n",
    "f.close()"
   ]
  },
  {
   "cell_type": "code",
   "execution_count": null,
   "metadata": {},
   "outputs": [],
   "source": []
  }
 ],
 "metadata": {
  "kernelspec": {
   "display_name": "base",
   "language": "python",
   "name": "python3"
  },
  "language_info": {
   "codemirror_mode": {
    "name": "ipython",
    "version": 3
   },
   "file_extension": ".py",
   "mimetype": "text/x-python",
   "name": "python",
   "nbconvert_exporter": "python",
   "pygments_lexer": "ipython3",
   "version": "3.11.5"
  },
  "orig_nbformat": 4
 },
 "nbformat": 4,
 "nbformat_minor": 2
}
