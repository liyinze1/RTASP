{
 "cells": [
  {
   "cell_type": "code",
   "execution_count": 1,
   "metadata": {},
   "outputs": [
    {
     "name": "stdout",
     "output_type": "stream",
     "text": [
      "start listening 23001 at 0.0.0.0\n",
      "sending b'\\x04' to ('192.168.10.108', 23000) , waiting for ACK\n",
      "Get ACK from ('192.168.10.108', 23001) \theader:  0\n",
      "get b'\\x00\\x00\\x05\\xa1\\x00\\xa3bid\\x00btpeaudiokpacket_size\\x19\\x10\\x00' from ('192.168.10.108', 23001) \theader:  0\n",
      "sending b'\\x01' to ('192.168.10.108', 23000) , waiting for ACK received: 0 \tloss rate: 1.0  -------\n",
      "Get ACK from ('192.168.10.108', 23001) \theader:  1\n",
      "sendingte: 609.1875 KB ------- addr: ('192.168.10.108', 23000) \tpacket received: 1533 \tloss rate: 0.018565941101152394  --------- b'\\x08' to ('192.168.10.108', 23000) , waiting for ACK\n",
      "Get ACK from ('192.168.10.108', 23001) \theader:  2\n"
     ]
    }
   ],
   "source": [
    "from RTASP import *\n",
    "import time\n",
    "\n",
    "receiver = RTASP_receiver(print=True)\n",
    "\n",
    "sensor_addr = ('192.168.10.108', 23000)\n",
    "\n",
    "receiver.discover(sensor_addr)\n",
    "\n",
    "receiver.start(sensor_addr)\n",
    "\n",
    "time.sleep(10.5)\n",
    "\n",
    "data = receiver.end(sensor_addr)"
   ]
  },
  {
   "cell_type": "code",
   "execution_count": 2,
   "metadata": {},
   "outputs": [],
   "source": [
    "f = open('rtasp.wav', 'wb')\n",
    "for packet in data[1]:\n",
    "    if packet != None:\n",
    "        f.write(packet['payload'])\n",
    "f.close()"
   ]
  },
  {
   "cell_type": "code",
   "execution_count": 1,
   "metadata": {},
   "outputs": [
    {
     "name": "stdout",
     "output_type": "stream",
     "text": [
      "start listening 23001 at 0.0.0.0\n",
      "sending b'\\x04' to ('192.168.10.108', 23000) , waiting for ACK\n",
      "Get ACK from ('192.168.10.108', 23001) \theader:  0\n",
      "get b'\\x00\\x00\\x05\\xa1\\x00\\xa4bid\\x00kpacket_size\\x19\\x10\\x00factive\\xf4hduration\\xfb?\\x84z\\xe1G\\xae\\x14{' from ('192.168.10.108', 23001) \theader:  0\n",
      "sending b'\\x01' to ('192.168.10.108', 23000) , waiting for ACK received: 0 \tloss rate: 1.0  -------\n",
      "Get ACK from ('192.168.10.108', 23001) \theader:  1\n",
      "sending b'\\x08' to ('192.168.10.108', 23000) , waiting for ACK \tpacket received: 1256 \tloss rate: 0.0  ----------\n",
      "Get ACK from ('192.168.10.108', 23001) \theader:  2\n"
     ]
    }
   ],
   "source": [
    "from RTASP import *\n",
    "import time\n",
    "\n",
    "receiver = RTASP_receiver(print=True)\n",
    "\n",
    "sensor_addr = ('192.168.10.108', 23000)\n",
    "\n",
    "receiver.discover(sensor_addr)\n",
    "\n",
    "receiver.start(sensor_addr)\n",
    "\n",
    "time.sleep(15)\n",
    "\n",
    "data = receiver.end(sensor_addr)"
   ]
  }
 ],
 "metadata": {
  "kernelspec": {
   "display_name": "base",
   "language": "python",
   "name": "python3"
  },
  "language_info": {
   "codemirror_mode": {
    "name": "ipython",
    "version": 3
   },
   "file_extension": ".py",
   "mimetype": "text/x-python",
   "name": "python",
   "nbconvert_exporter": "python",
   "pygments_lexer": "ipython3",
   "version": "3.11.5"
  }
 },
 "nbformat": 4,
 "nbformat_minor": 2
}
