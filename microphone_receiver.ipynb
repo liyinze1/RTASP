{
 "cells": [
  {
   "cell_type": "code",
   "execution_count": 1,
   "metadata": {},
   "outputs": [
    {
     "name": "stdout",
     "output_type": "stream",
     "text": [
      "start listening 23001 at 0.0.0.0\n"
     ]
    }
   ],
   "source": [
    "from RTASP import *\n",
    "import time\n",
    "\n",
    "receiver = RTASP_receiver(print=True)\n",
    "\n",
    "sensor_addr = ('10.147.19.232', 23000)\n",
    "\n",
    "time.sleep(20)\n",
    "\n",
    "# receiver.discover(sensor_addr)\n",
    "\n",
    "# receiver.start(sensor_addr)\n",
    "\n",
    "# time.sleep(10)\n",
    "\n",
    "# receiver.stop(sensor_addr)\n",
    "\n",
    "# time.sleep(10)\n",
    "\n",
    "# data = receiver.end(sensor_addr)\n",
    "\n",
    "# print(receiver.end(('127.0.0.1', 23000)))\n"
   ]
  },
  {
   "cell_type": "code",
   "execution_count": 4,
   "metadata": {},
   "outputs": [
    {
     "data": {
      "text/plain": [
       "1853"
      ]
     },
     "execution_count": 4,
     "metadata": {},
     "output_type": "execute_result"
    }
   ],
   "source": [
    "len(data[1])"
   ]
  },
  {
   "cell_type": "code",
   "execution_count": null,
   "metadata": {},
   "outputs": [],
   "source": []
  }
 ],
 "metadata": {
  "kernelspec": {
   "display_name": "base",
   "language": "python",
   "name": "python3"
  },
  "language_info": {
   "codemirror_mode": {
    "name": "ipython",
    "version": 3
   },
   "file_extension": ".py",
   "mimetype": "text/x-python",
   "name": "python",
   "nbconvert_exporter": "python",
   "pygments_lexer": "ipython3",
   "version": "3.11.5"
  }
 },
 "nbformat": 4,
 "nbformat_minor": 2
}
