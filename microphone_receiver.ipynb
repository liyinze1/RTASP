{
 "cells": [
  {
   "cell_type": "code",
   "execution_count": 1,
   "metadata": {},
   "outputs": [
    {
     "name": "stdout",
     "output_type": "stream",
     "text": [
      "start listening 23001 at 0.0.0.0\n",
      "get b'\\x00\\x00\\x05\\xa1\\x00\\xa7bid\\x00btpjmicrophoneksample_rate\\x19\\xbb\\x80ewidthfS32_LEhchannels\\x04kpacket_size\\x19\\x10\\x00factive\\xf4' from ('10.147.19.232', 23001) \theader:  0\n",
      "get b'\\x00\\x01\\x08' from ('10.147.19.232', 23001) \theader:  100) \tpacket received: 2136 \tloss rate: 0.0  --------\n",
      "data rate: 0 B ------- addr: ('10.147.19.232', 23000) \tpacket received: 2161 \tloss rate: 0.0  -------.0  -------\r"
     ]
    },
    {
     "name": "stdout",
     "output_type": "stream",
     "text": [
      "data rate: 0 B ------- addr: ('10.147.19.232', 23000) \tpacket received: 2161 \tloss rate: 0.0  -------\r"
     ]
    }
   ],
   "source": [
    "from RTASP import *\n",
    "import time\n",
    "\n",
    "receiver = RTASP_receiver(print=True)\n",
    "\n",
    "sensor_addr = ('10.147.19.232', 23000)\n",
    "\n",
    "time.sleep(40)\n",
    "\n",
    "receiver.discover(sensor_addr)\n",
    "\n",
    "receiver.start(sensor_addr)\n",
    "\n",
    "time.sleep(10)\n",
    "\n",
    "receiver.slow(sensor_addr)\n",
    "\n",
    "time.sleep(10)\n",
    "\n",
    "receiver.fast(sensor_addr)\n",
    "\n",
    "time.sleep(10)\n",
    "\n",
    "data = receiver.end(sensor_addr)\n",
    "\n",
    "print(receiver.end(('127.0.0.1', 23000)))\n"
   ]
  },
  {
   "cell_type": "code",
   "execution_count": null,
   "metadata": {},
   "outputs": [],
   "source": []
  }
 ],
 "metadata": {
  "kernelspec": {
   "display_name": "base",
   "language": "python",
   "name": "python3"
  },
  "language_info": {
   "codemirror_mode": {
    "name": "ipython",
    "version": 3
   },
   "file_extension": ".py",
   "mimetype": "text/x-python",
   "name": "python",
   "nbconvert_exporter": "python",
   "pygments_lexer": "ipython3",
   "version": "3.11.5"
  }
 },
 "nbformat": 4,
 "nbformat_minor": 2
}
