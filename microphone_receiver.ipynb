{
 "cells": [
  {
   "cell_type": "code",
   "execution_count": 2,
   "metadata": {},
   "outputs": [
    {
     "name": "stdout",
     "output_type": "stream",
     "text": [
      "------- addr: ('10.147.19.232', 23000) \tpacket received: 3684 \tloss rate: 0.012861736334405127  -------\r"
     ]
    },
    {
     "ename": "OSError",
     "evalue": "[Errno 48] Address already in use",
     "output_type": "error",
     "traceback": [
      "\u001b[0;31m---------------------------------------------------------------------------\u001b[0m",
      "\u001b[0;31mOSError\u001b[0m                                   Traceback (most recent call last)",
      "Cell \u001b[0;32mIn[2], line 4\u001b[0m\n\u001b[1;32m      1\u001b[0m \u001b[38;5;28;01mfrom\u001b[39;00m \u001b[38;5;21;01mRTASP\u001b[39;00m \u001b[38;5;28;01mimport\u001b[39;00m \u001b[38;5;241m*\u001b[39m\n\u001b[1;32m      2\u001b[0m \u001b[38;5;28;01mimport\u001b[39;00m \u001b[38;5;21;01mtime\u001b[39;00m\n\u001b[0;32m----> 4\u001b[0m receiver \u001b[38;5;241m=\u001b[39m \u001b[43mRTASP_receiver\u001b[49m\u001b[43m(\u001b[49m\u001b[38;5;28;43mprint\u001b[39;49m\u001b[38;5;241;43m=\u001b[39;49m\u001b[38;5;28;43;01mTrue\u001b[39;49;00m\u001b[43m)\u001b[49m\n\u001b[1;32m      6\u001b[0m sensor_addr \u001b[38;5;241m=\u001b[39m (\u001b[38;5;124m'\u001b[39m\u001b[38;5;124m10.147.19.232\u001b[39m\u001b[38;5;124m'\u001b[39m, \u001b[38;5;241m23000\u001b[39m)\n\u001b[1;32m      8\u001b[0m time\u001b[38;5;241m.\u001b[39msleep(\u001b[38;5;241m40\u001b[39m)\n",
      "File \u001b[0;32m~/Documents/GitHub/RTASP/RTASP.py:353\u001b[0m, in \u001b[0;36mRTASP_receiver.__init__\u001b[0;34m(self, ip, port, print)\u001b[0m\n\u001b[1;32m    351\u001b[0m \u001b[38;5;28mself\u001b[39m\u001b[38;5;241m.\u001b[39msock \u001b[38;5;241m=\u001b[39m socket\u001b[38;5;241m.\u001b[39msocket(socket\u001b[38;5;241m.\u001b[39mAF_INET, socket\u001b[38;5;241m.\u001b[39mSOCK_DGRAM)\n\u001b[1;32m    352\u001b[0m \u001b[38;5;28mself\u001b[39m\u001b[38;5;241m.\u001b[39mport \u001b[38;5;241m=\u001b[39m port\n\u001b[0;32m--> 353\u001b[0m \u001b[38;5;28;43mself\u001b[39;49m\u001b[38;5;241;43m.\u001b[39;49m\u001b[43msock\u001b[49m\u001b[38;5;241;43m.\u001b[39;49m\u001b[43mbind\u001b[49m\u001b[43m(\u001b[49m\u001b[43m(\u001b[49m\u001b[43mip\u001b[49m\u001b[43m,\u001b[49m\u001b[43m \u001b[49m\u001b[43mport\u001b[49m\u001b[43m)\u001b[49m\u001b[43m)\u001b[49m\n\u001b[1;32m    355\u001b[0m \u001b[38;5;28mself\u001b[39m\u001b[38;5;241m.\u001b[39mcontrol_sock \u001b[38;5;241m=\u001b[39m udp_with_ack(\u001b[38;5;28mself\u001b[39m\u001b[38;5;241m.\u001b[39m__control_msg_analysis, port\u001b[38;5;241m=\u001b[39mport\u001b[38;5;241m+\u001b[39m\u001b[38;5;241m1\u001b[39m)\n\u001b[1;32m    357\u001b[0m \u001b[38;5;28mself\u001b[39m\u001b[38;5;241m.\u001b[39mwindow_dict \u001b[38;5;241m=\u001b[39m {}\n",
      "\u001b[0;31mOSError\u001b[0m: [Errno 48] Address already in use"
     ]
    },
    {
     "name": "stdout",
     "output_type": "stream",
     "text": [
      "------- addr: ('10.147.19.232', 23000) \tpacket received: 3684 \tloss rate: 0.012861736334405127  -------\r"
     ]
    }
   ],
   "source": [
    "from RTASP import *\n",
    "import time\n",
    "\n",
    "receiver = RTASP_receiver(print=True)\n",
    "\n",
    "sensor_addr = ('10.147.19.232', 23000)\n",
    "\n",
    "time.sleep(40)\n",
    "\n",
    "# receiver.discover(sensor_addr)\n",
    "\n",
    "# receiver.start(sensor_addr)\n",
    "\n",
    "# time.sleep(10)\n",
    "\n",
    "# receiver.stop(sensor_addr)\n",
    "\n",
    "# time.sleep(10)\n",
    "\n",
    "# data = receiver.end(sensor_addr)\n",
    "\n",
    "# print(receiver.end(('127.0.0.1', 23000)))\n"
   ]
  },
  {
   "cell_type": "code",
   "execution_count": 4,
   "metadata": {},
   "outputs": [
    {
     "name": "stdout",
     "output_type": "stream",
     "text": [
      "35 ns ± 0.524 ns per loop (mean ± std. dev. of 7 runs, 10,000,000 loops each)\n",
      "48.7 ns ± 0.241 ns per loop (mean ± std. dev. of 7 runs, 10,000,000 loops each)\n"
     ]
    }
   ],
   "source": [
    "def a():\n",
    "    pass\n",
    "\n",
    "def b():\n",
    "    if 3 > 2:\n",
    "        pass\n",
    "\n",
    "\n",
    "%timeit a()\n",
    "%timeit b()"
   ]
  },
  {
   "cell_type": "code",
   "execution_count": null,
   "metadata": {},
   "outputs": [],
   "source": []
  }
 ],
 "metadata": {
  "kernelspec": {
   "display_name": "base",
   "language": "python",
   "name": "python3"
  },
  "language_info": {
   "codemirror_mode": {
    "name": "ipython",
    "version": 3
   },
   "file_extension": ".py",
   "mimetype": "text/x-python",
   "name": "python",
   "nbconvert_exporter": "python",
   "pygments_lexer": "ipython3",
   "version": "3.11.5"
  }
 },
 "nbformat": 4,
 "nbformat_minor": 2
}
