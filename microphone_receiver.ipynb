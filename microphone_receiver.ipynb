{
 "cells": [
  {
   "cell_type": "code",
   "execution_count": 1,
   "metadata": {},
   "outputs": [
    {
     "name": "stdout",
     "output_type": "stream",
     "text": [
      "start listening 23001 at 0.0.0.0\n",
      "sending b'\\x04' to ('10.147.19.81', 23000) , waiting for ACK\n",
      "get b'\\x80' from ('10.147.19.81', 23001) \theader:  128\n",
      "Get ACK!\n",
      "get b'\\x00\\x05\\xa1\\x00\\xa7bid\\x00btpjmicrophoneksample_rate\\x19\\xbb\\x80ewidthfS32_LEhchannels\\x04kpacket_size\\x19\\x10\\x00factive\\xf4' from ('10.147.19.81', 23001) \theader:  0\n"
     ]
    },
    {
     "ename": "TypeError",
     "evalue": "RTASP_receiver.discover() missing 1 required positional argument: 'addr'",
     "output_type": "error",
     "traceback": [
      "\u001b[0;31m---------------------------------------------------------------------------\u001b[0m",
      "\u001b[0;31mTypeError\u001b[0m                                 Traceback (most recent call last)",
      "Cell \u001b[0;32mIn[1], line 10\u001b[0m\n\u001b[1;32m      6\u001b[0m sensor_addr \u001b[38;5;241m=\u001b[39m (\u001b[38;5;124m'\u001b[39m\u001b[38;5;124m10.147.19.81\u001b[39m\u001b[38;5;124m'\u001b[39m, \u001b[38;5;241m23000\u001b[39m)\n\u001b[1;32m      8\u001b[0m receiver\u001b[38;5;241m.\u001b[39mdiscover(sensor_addr)\n\u001b[0;32m---> 10\u001b[0m \u001b[43mreceiver\u001b[49m\u001b[38;5;241;43m.\u001b[39;49m\u001b[43mstart\u001b[49m\u001b[43m(\u001b[49m\u001b[43msensor_addr\u001b[49m\u001b[43m)\u001b[49m\n\u001b[1;32m     12\u001b[0m time\u001b[38;5;241m.\u001b[39msleep(\u001b[38;5;241m10\u001b[39m)\n\u001b[1;32m     14\u001b[0m receiver\u001b[38;5;241m.\u001b[39mstop(sensor_addr)\n",
      "File \u001b[0;32m~/Documents/GitHub/RTASP/RTASP.py:353\u001b[0m, in \u001b[0;36mRTASP_receiver.start\u001b[0;34m(self, addr, sensor_id)\u001b[0m\n\u001b[1;32m    348\u001b[0m \u001b[38;5;250m\u001b[39m\u001b[38;5;124;03m'''\u001b[39;00m\n\u001b[1;32m    349\u001b[0m \u001b[38;5;124;03m    start a sensor to generate data at a specific (ip, sock)\u001b[39;00m\n\u001b[1;32m    350\u001b[0m \n\u001b[1;32m    351\u001b[0m \u001b[38;5;124;03m'''\u001b[39;00m\n\u001b[1;32m    352\u001b[0m \u001b[38;5;28;01mif\u001b[39;00m addr \u001b[38;5;129;01mnot\u001b[39;00m \u001b[38;5;129;01min\u001b[39;00m \u001b[38;5;28mself\u001b[39m\u001b[38;5;241m.\u001b[39msensor_info_dict:\n\u001b[0;32m--> 353\u001b[0m     \u001b[38;5;28;01mif\u001b[39;00m \u001b[38;5;28;43mself\u001b[39;49m\u001b[38;5;241;43m.\u001b[39;49m\u001b[43mdiscover\u001b[49m\u001b[43m(\u001b[49m\u001b[43m)\u001b[49m \u001b[38;5;241m!=\u001b[39m \u001b[38;5;241m0\u001b[39m:\n\u001b[1;32m    354\u001b[0m         \u001b[38;5;28;01mreturn\u001b[39;00m \u001b[38;5;241m1\u001b[39m\n\u001b[1;32m    355\u001b[0m \u001b[38;5;28;01mif\u001b[39;00m sensor_id \u001b[38;5;241m==\u001b[39m \u001b[38;5;28;01mNone\u001b[39;00m:\n",
      "\u001b[0;31mTypeError\u001b[0m: RTASP_receiver.discover() missing 1 required positional argument: 'addr'"
     ]
    }
   ],
   "source": [
    "from RTASP import *\n",
    "import time\n",
    "\n",
    "receiver = RTASP_receiver(print=False)\n",
    "\n",
    "sensor_addr = ('10.147.19.81', 23000)\n",
    "\n",
    "receiver.discover(sensor_addr)\n",
    "\n",
    "receiver.start(sensor_addr)\n",
    "\n",
    "time.sleep(10)\n",
    "\n",
    "receiver.stop(sensor_addr)\n",
    "\n",
    "print(receiver.end(('127.0.0.1', 23000)))\n"
   ]
  }
 ],
 "metadata": {
  "kernelspec": {
   "display_name": "base",
   "language": "python",
   "name": "python3"
  },
  "language_info": {
   "codemirror_mode": {
    "name": "ipython",
    "version": 3
   },
   "file_extension": ".py",
   "mimetype": "text/x-python",
   "name": "python",
   "nbconvert_exporter": "python",
   "pygments_lexer": "ipython3",
   "version": "3.11.5"
  }
 },
 "nbformat": 4,
 "nbformat_minor": 2
}
