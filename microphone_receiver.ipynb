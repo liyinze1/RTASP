{
 "cells": [
  {
   "cell_type": "code",
   "execution_count": 1,
   "metadata": {},
   "outputs": [
    {
     "name": "stdout",
     "output_type": "stream",
     "text": [
      "start listening 23001 at 0.0.0.0\n",
      "sending b'\\x04' to ('10.147.19.232', 23000) , waiting for ACK\n",
      "get b'\\x80' from ('10.147.19.232', 23001) \theader:  128\n",
      "Get ACK!\n",
      "sending b'\\x04' to ('10.147.19.232', 23000) , waiting for ACK\n",
      "get b'\\x00\\x05\\xa1\\x00\\xa7bid\\x00btpjmicrophoneksample_rate\\x19\\xbb\\x80ewidthfS32_LEhchannels\\x04kpacket_size\\x19\\x10\\x00factive\\xf4' from ('10.147.19.232', 23001) \theader:  0\n",
      "get b'\\x00\\x05\\xa1\\x00\\xa7bid\\x00btpjmicrophoneksample_rate\\x19\\xbb\\x80ewidthfS32_LEhchannels\\x04kpacket_size\\x19\\x10\\x00factive\\xf4' from ('10.147.19.232', 23001) \theader:  0\n",
      "get b'\\x00\\x05\\xa1\\x00\\xa7bid\\x00btpjmicrophoneksample_rate\\x19\\xbb\\x80ewidthfS32_LEhchannels\\x04kpacket_size\\x19\\x10\\x00factive\\xf4' from ('10.147.19.232', 23001) \theader:  0\n",
      "get b'\\x81' from ('10.147.19.232', 23001) \theader:  129\n",
      "Get ACK!\n",
      "sending b'\\x01' to ('10.147.19.232', 23000) , waiting for ACK\n",
      "get b'\\x01\\x05\\xa1\\x00\\xa7bid\\x00btpjmicrophoneksample_rate\\x19\\xbb\\x80ewidthfS32_LEhchannels\\x04kpacket_size\\x19\\x10\\x00factive\\xf4' from ('10.147.19.232', 23001) \theader:  1\n",
      "get b'\\x01\\x05\\xa1\\x00\\xa7bid\\x00btpjmicrophoneksample_rate\\x19\\xbb\\x80ewidthfS32_LEhchannels\\x04kpacket_size\\x19\\x10\\x00factive\\xf4' from ('10.147.19.232', 23001) \theader:  1\n",
      "get b'\\x01\\x05\\xa1\\x00\\xa7bid\\x00btpjmicrophoneksample_rate\\x19\\xbb\\x80ewidthfS32_LEhchannels\\x04kpacket_size\\x19\\x10\\x00factive\\xf4' from ('10.147.19.232', 23001) \theader:  1\n",
      "get b'\\x81' from ('10.147.19.232', 23001) \theader:  129\n",
      "get b'\\x02\\x05\\xa1\\x00\\xa7bid\\x00btpjmicrophoneksample_rate\\x19\\xbb\\x80ewidthfS32_LEhchannels\\x04kpacket_size\\x19\\x10\\x00factive\\xf4' from ('10.147.19.232', 23001) \theader:  2\n",
      "already tried 3 times...timeout!\n",
      "get b'\\x02\\x05\\xa1\\x00\\xa7bid\\x00btpjmicrophoneksample_rate\\x19\\xbb\\x80ewidthfS32_LEhchannels\\x04kpacket_size\\x19\\x10\\x00factive\\xf4' from ('10.147.19.232', 23001) \theader:  2\n",
      "get b'\\x02\\x05\\xa1\\x00\\xa7bid\\x00btpjmicrophoneksample_rate\\x19\\xbb\\x80ewidthfS32_LEhchannels\\x04kpacket_size\\x19\\x10\\x00factive\\xf4' from ('10.147.19.232', 23001) \theader:  2\n",
      "get b'\\x81' from ('10.147.19.232', 23001) \theader:  129\n",
      "get b'\\x03\\x05\\xa1\\x00\\xa7bid\\x00btpjmicrophoneksample_rate\\x19\\xbb\\x80ewidthfS32_LEhchannels\\x04kpacket_size\\x19\\x10\\x00factive\\xf4' from ('10.147.19.232', 23001) \theader:  3\n",
      "get b'\\x03\\x05\\xa1\\x00\\xa7bid\\x00btpjmicrophoneksample_rate\\x19\\xbb\\x80ewidthfS32_LEhchannels\\x04kpacket_size\\x19\\x10\\x00factive\\xf4' from ('10.147.19.232', 23001) \theader:  3\n",
      "get b'\\x03\\x05\\xa1\\x00\\xa7bid\\x00btpjmicrophoneksample_rate\\x19\\xbb\\x80ewidthfS32_LEhchannels\\x04kpacket_size\\x19\\x10\\x00factive\\xf4' from ('10.147.19.232', 23001) \theader:  3\n",
      "get b'\\x82' from ('10.147.19.232', 23001) \theader:  130\n",
      "get b'\\x82' from ('10.147.19.232', 23001) \theader:  130\n",
      "get b'\\x82' from ('10.147.19.232', 23001) \theader:  130\n"
     ]
    }
   ],
   "source": [
    "from RTASP import *\n",
    "import time\n",
    "\n",
    "receiver = RTASP_receiver(print=False)\n",
    "\n",
    "sensor_addr = ('10.147.19.232', 23000)\n",
    "\n",
    "receiver.discover(sensor_addr)\n",
    "\n",
    "receiver.start(sensor_addr)\n",
    "\n",
    "time.sleep(10)\n",
    "\n",
    "receiver.stop(sensor_addr)\n",
    "\n",
    "print(receiver.end(('127.0.0.1', 23000)))\n"
   ]
  },
  {
   "cell_type": "code",
   "execution_count": 1,
   "metadata": {},
   "outputs": [
    {
     "data": {
      "text/plain": [
       "10"
      ]
     },
     "execution_count": 1,
     "metadata": {},
     "output_type": "execute_result"
    }
   ],
   "source": [
    "1 * 10"
   ]
  },
  {
   "cell_type": "code",
   "execution_count": null,
   "metadata": {},
   "outputs": [],
   "source": []
  }
 ],
 "metadata": {
  "kernelspec": {
   "display_name": "base",
   "language": "python",
   "name": "python3"
  },
  "language_info": {
   "codemirror_mode": {
    "name": "ipython",
    "version": 3
   },
   "file_extension": ".py",
   "mimetype": "text/x-python",
   "name": "python",
   "nbconvert_exporter": "python",
   "pygments_lexer": "ipython3",
   "version": "3.11.5"
  }
 },
 "nbformat": 4,
 "nbformat_minor": 2
}
