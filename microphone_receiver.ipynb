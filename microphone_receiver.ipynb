{
 "cells": [
  {
   "cell_type": "code",
   "execution_count": 1,
   "metadata": {},
   "outputs": [
    {
     "name": "stdout",
     "output_type": "stream",
     "text": [
      "start listening 23001 at 0.0.0.0\n",
      "sending b'\\x04' to ('10.147.19.221', 23000) , waiting for ACK\n",
      "Get ACK from ('10.147.19.221', 23001) \theader:  0\n",
      "get b'\\x00\\x00\\x05\\xa1\\x00\\xa7bid\\x00btpjmicrophoneksample_rate\\x19\\xbb\\x80ewidthfS32_LEhchannels\\x04kpacket_size\\x19\\x10\\x00factive\\xf4' from ('10.147.19.221', 23001) \theader:  0\n",
      "sending b'\\x01' to ('10.147.19.221', 23000) , waiting for ACK received: 0 \tloss rate: 1.0  -------\n",
      "get b'\\x00\\x00\\x05\\xa1\\x00\\xa7bid\\x00btpjmicrophoneksample_rate\\x19\\xbb\\x80ewidthfS32_LEhchannels\\x04kpacket_size\\x19\\x10\\x00factive\\xf4' from ('10.147.19.221', 23001) \theader:  0\n",
      "already tried 3 times...timeout!0.147.19.221', 23000) \tpacket received: 0 \tloss rate: 1.0  -------\n",
      "get b'\\x00\\x00\\x05\\xa1\\x00\\xa7bid\\x00btpjmicrophoneksample_rate\\x19\\xbb\\x80ewidthfS32_LEhchannels\\x04kpacket_size\\x19\\x10\\x00factive\\xf4' from ('10.147.19.221', 23001) \theader:  0\n",
      "get b'\\x00\\x00\\x05\\xa1\\x00\\xa7bid\\x00btpjmicrophoneksample_rate\\x19\\xbb\\x80ewidthfS32_LEhchannels\\x04kpacket_size\\x19\\x10\\x00factive\\xf4' from ('10.147.19.221', 23001) \theader:  0\n",
      "get b'\\x00\\x00\\x05\\xa1\\x00\\xa7bid\\x00btpjmicrophoneksample_rate\\x19\\xbb\\x80ewidthfS32_LEhchannels\\x04kpacket_size\\x19\\x10\\x00factive\\xf4' from ('10.147.19.221', 23001) \theader:  0\n",
      "sending b'\\x02' to ('10.147.19.221', 23000) , waiting for ACK received: 0 \tloss rate: 1.0  -------\n",
      "Get ACK from ('10.147.19.221', 23001) \theader:  1000) \tpacket received: 0 \tloss rate: 1.0  -------\n",
      "Get ACK from ('10.147.19.221', 23001) \theader:  1\n",
      "Get ACK from ('10.147.19.221', 23001) \theader:  1\n",
      "Get ACK from ('10.147.19.221', 23001) \theader:  2\n",
      "sending b'\\x03' to ('10.147.19.221', 23000) , waiting for ACK) \tpacket received: 5512 \tloss rate: 0.9158537516220135  --------\n",
      "Get ACK from ('10.147.19.221', 23001) \theader:  3\n",
      "data rate: 0 B ------- addr: ('10.147.19.221', 23000) \tpacket received: 5545 \tloss rate: 0.9153771022189665  -------665  -------\r"
     ]
    },
    {
     "ename": "KeyboardInterrupt",
     "evalue": "",
     "output_type": "error",
     "traceback": [
      "\u001b[0;31m---------------------------------------------------------------------------\u001b[0m",
      "\u001b[0;31mKeyboardInterrupt\u001b[0m                         Traceback (most recent call last)",
      "Cell \u001b[0;32mIn[1], line 20\u001b[0m\n\u001b[1;32m     16\u001b[0m time\u001b[38;5;241m.\u001b[39msleep(\u001b[38;5;241m10\u001b[39m)\n\u001b[1;32m     18\u001b[0m receiver\u001b[38;5;241m.\u001b[39mfast(sensor_addr)\n\u001b[0;32m---> 20\u001b[0m \u001b[43mtime\u001b[49m\u001b[38;5;241;43m.\u001b[39;49m\u001b[43msleep\u001b[49m\u001b[43m(\u001b[49m\u001b[38;5;241;43m10\u001b[39;49m\u001b[43m)\u001b[49m\n\u001b[1;32m     22\u001b[0m data \u001b[38;5;241m=\u001b[39m receiver\u001b[38;5;241m.\u001b[39mend(sensor_addr)\n",
      "\u001b[0;31mKeyboardInterrupt\u001b[0m: "
     ]
    },
    {
     "name": "stdout",
     "output_type": "stream",
     "text": [
      "data rate: 0 B ------- addr: ('10.147.19.221', 23000) \tpacket received: 5545 \tloss rate: 0.9153771022189665  -------\r"
     ]
    }
   ],
   "source": [
    "from RTASP import *\n",
    "import time\n",
    "\n",
    "receiver = RTASP_receiver(print=True)\n",
    "\n",
    "sensor_addr = ('10.147.19.221', 23000)\n",
    "\n",
    "receiver.discover(sensor_addr)\n",
    "\n",
    "receiver.start(sensor_addr)\n",
    "\n",
    "time.sleep(11)\n",
    "\n",
    "data = receiver.end(sensor_addr)"
   ]
  },
  {
   "cell_type": "code",
   "execution_count": null,
   "metadata": {},
   "outputs": [],
   "source": []
  }
 ],
 "metadata": {
  "kernelspec": {
   "display_name": "base",
   "language": "python",
   "name": "python3"
  },
  "language_info": {
   "codemirror_mode": {
    "name": "ipython",
    "version": 3
   },
   "file_extension": ".py",
   "mimetype": "text/x-python",
   "name": "python",
   "nbconvert_exporter": "python",
   "pygments_lexer": "ipython3",
   "version": "3.11.5"
  }
 },
 "nbformat": 4,
 "nbformat_minor": 2
}
