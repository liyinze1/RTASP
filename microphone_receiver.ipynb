{
 "cells": [
  {
   "cell_type": "code",
   "execution_count": 1,
   "metadata": {},
   "outputs": [
    {
     "name": "stdout",
     "output_type": "stream",
     "text": [
      "start listening 23001 at 0.0.0.0\n",
      "sending b'\\x04' to ('10.147.19.232', 23000) , waiting for ACK\n",
      "Get ACK from ('10.147.19.232', 23001) \theader:  0\n",
      "get b'\\x00\\x00\\x05\\xa1\\x00\\xa4bid\\x00kpacket_size\\x19\\x10\\x00factive\\xf4hduration\\xfb?\\xb9\\x99\\x99\\x99\\x99\\x99\\x9a' from ('10.147.19.232', 23001) \theader:  0\n",
      "data rate:sending b'\\x01' to ('10.147.19.232', 23000) , waiting for ACK\n",
      "Get ACK from ('10.147.19.232', 23001) \theader:  1et received: 0 \tloss rate: 1.0  -------\n",
      "sending b'\\x02' to ('10.147.19.232', 23000) , waiting for ACK) \tpacket received: 44 \tloss rate: 0.5164835164835164  --------\n",
      "Get ACK from ('10.147.19.232', 23001) \theader:  2\n",
      "sending b'\\x03' to ('10.147.19.232', 23000) , waiting for ACK \tpacket received: 238 \tloss rate: 0.16491228070175434  --------\n",
      "Get ACK from ('10.147.19.232', 23001) \theader:  3\n",
      "sendingte: 40.078125 KB ------- addr: ('10.147.19.232', 23000) \tpacket received: 345 \tloss rate: 0.11989795918367352  -------- b'\\x08' to ('10.147.19.232', 23000) , waiting for ACK\n",
      "Get ACK from ('10.147.19.232', 23001) \theader:  4\n"
     ]
    }
   ],
   "source": [
    "from RTASP import *\n",
    "import time\n",
    "\n",
    "receiver = RTASP_receiver(print=True)\n",
    "\n",
    "sensor_addr = ('10.147.19.232', 23000)\n",
    "\n",
    "receiver.discover(sensor_addr)\n",
    "\n",
    "receiver.start(sensor_addr)\n",
    "\n",
    "time.sleep(10)\n",
    "\n",
    "receiver.slow(sensor_addr)\n",
    "\n",
    "time.sleep(10)\n",
    "\n",
    "receiver.fast(sensor_addr)\n",
    "\n",
    "time.sleep(10)\n",
    "\n",
    "data = receiver.end(sensor_addr)\n",
    "\n"
   ]
  },
  {
   "cell_type": "code",
   "execution_count": null,
   "metadata": {},
   "outputs": [],
   "source": []
  }
 ],
 "metadata": {
  "kernelspec": {
   "display_name": "base",
   "language": "python",
   "name": "python3"
  },
  "language_info": {
   "codemirror_mode": {
    "name": "ipython",
    "version": 3
   },
   "file_extension": ".py",
   "mimetype": "text/x-python",
   "name": "python",
   "nbconvert_exporter": "python",
   "pygments_lexer": "ipython3",
   "version": "3.11.5"
  }
 },
 "nbformat": 4,
 "nbformat_minor": 2
}
