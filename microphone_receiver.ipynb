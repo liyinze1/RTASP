{
 "cells": [
  {
   "cell_type": "code",
   "execution_count": 2,
   "metadata": {},
   "outputs": [
    {
     "ename": "TypeError",
     "evalue": "udp_with_ack.__init__() got an unexpected keyword argument 'port'",
     "output_type": "error",
     "traceback": [
      "\u001b[0;31m---------------------------------------------------------------------------\u001b[0m",
      "\u001b[0;31mTypeError\u001b[0m                                 Traceback (most recent call last)",
      "Cell \u001b[0;32mIn[2], line 5\u001b[0m\n\u001b[1;32m      1\u001b[0m \u001b[38;5;28;01mfrom\u001b[39;00m \u001b[38;5;21;01mRTASP\u001b[39;00m \u001b[38;5;28;01mimport\u001b[39;00m \u001b[38;5;241m*\u001b[39m\n\u001b[1;32m      2\u001b[0m \u001b[38;5;28;01mimport\u001b[39;00m \u001b[38;5;21;01mtime\u001b[39;00m\n\u001b[0;32m----> 5\u001b[0m receiver \u001b[38;5;241m=\u001b[39m \u001b[43mRTASP_receiver\u001b[49m\u001b[43m(\u001b[49m\u001b[38;5;28;43mprint\u001b[39;49m\u001b[38;5;241;43m=\u001b[39;49m\u001b[38;5;28;43;01mTrue\u001b[39;49;00m\u001b[43m)\u001b[49m\n\u001b[1;32m      7\u001b[0m sensor_addr \u001b[38;5;241m=\u001b[39m (\u001b[38;5;124m'\u001b[39m\u001b[38;5;124m192.168.10.108\u001b[39m\u001b[38;5;124m'\u001b[39m, \u001b[38;5;241m23000\u001b[39m)\n\u001b[1;32m      9\u001b[0m receiver\u001b[38;5;241m.\u001b[39mdiscover(sensor_addr)\n",
      "File \u001b[0;32m~/Documents/GitHub/RTASP/RTASP.py:384\u001b[0m, in \u001b[0;36mRTASP_receiver.__init__\u001b[0;34m(self, ip, port, print, timeout, max_retries)\u001b[0m\n\u001b[1;32m    381\u001b[0m \u001b[38;5;28mself\u001b[39m\u001b[38;5;241m.\u001b[39mport \u001b[38;5;241m=\u001b[39m port\n\u001b[1;32m    382\u001b[0m \u001b[38;5;28mself\u001b[39m\u001b[38;5;241m.\u001b[39msock\u001b[38;5;241m.\u001b[39mbind((ip, port))\n\u001b[0;32m--> 384\u001b[0m \u001b[38;5;28mself\u001b[39m\u001b[38;5;241m.\u001b[39mcontrol_sock \u001b[38;5;241m=\u001b[39m \u001b[43mudp_with_ack\u001b[49m\u001b[43m(\u001b[49m\u001b[38;5;28;43mself\u001b[39;49m\u001b[38;5;241;43m.\u001b[39;49m\u001b[43m__control_msg_analysis\u001b[49m\u001b[43m,\u001b[49m\u001b[43m \u001b[49m\u001b[43mport\u001b[49m\u001b[38;5;241;43m=\u001b[39;49m\u001b[43mport\u001b[49m\u001b[38;5;241;43m+\u001b[39;49m\u001b[38;5;241;43m1\u001b[39;49m\u001b[43m,\u001b[49m\u001b[43m \u001b[49m\u001b[43mtimeout\u001b[49m\u001b[38;5;241;43m=\u001b[39;49m\u001b[38;5;241;43m2\u001b[39;49m\u001b[43m,\u001b[49m\u001b[43m \u001b[49m\u001b[43mmax_retries\u001b[49m\u001b[38;5;241;43m=\u001b[39;49m\u001b[38;5;241;43m3\u001b[39;49m\u001b[43m)\u001b[49m\n\u001b[1;32m    386\u001b[0m \u001b[38;5;28mself\u001b[39m\u001b[38;5;241m.\u001b[39mwindow_dict \u001b[38;5;241m=\u001b[39m {}\n\u001b[1;32m    387\u001b[0m \u001b[38;5;28mself\u001b[39m\u001b[38;5;241m.\u001b[39mdata_dict \u001b[38;5;241m=\u001b[39m {}\n",
      "\u001b[0;31mTypeError\u001b[0m: udp_with_ack.__init__() got an unexpected keyword argument 'port'"
     ]
    }
   ],
   "source": [
    "from RTASP import *\n",
    "import time\n",
    "\n",
    "\n",
    "receiver = RTASP_receiver(print=True)\n",
    "\n",
    "sensor_addr = ('192.168.10.108', 23000)\n",
    "\n",
    "receiver.discover(sensor_addr)\n",
    "\n",
    "receiver.start(sensor_addr)\n",
    "\n",
    "time.sleep(10.5)\n",
    "\n",
    "data = receiver.end(sensor_addr)"
   ]
  },
  {
   "cell_type": "code",
   "execution_count": 6,
   "metadata": {},
   "outputs": [
    {
     "data": {
      "text/plain": [
       "b'\\xfb@o\\xf0\\x00\\x00\\x00\\x00\\x00'"
      ]
     },
     "execution_count": 6,
     "metadata": {},
     "output_type": "execute_result"
    }
   ],
   "source": [
    "import cbor2\n",
    "\n",
    "cbor2.dumps(255.5)"
   ]
  },
  {
   "cell_type": "code",
   "execution_count": 2,
   "metadata": {},
   "outputs": [],
   "source": [
    "f = open('rtasp.wav', 'wb')\n",
    "for packet in data[1]:\n",
    "    if packet != None:\n",
    "        f.write(packet['payload'])\n",
    "f.close()"
   ]
  },
  {
   "cell_type": "code",
   "execution_count": 1,
   "metadata": {},
   "outputs": [
    {
     "name": "stdout",
     "output_type": "stream",
     "text": [
      "start listening 23001 at 0.0.0.0\n",
      "sending b'\\x04' to ('192.168.10.108', 23000) , waiting for ACK\n",
      "Get ACK from ('192.168.10.108', 23001) \theader:  0\n",
      "get b'\\x00\\x00\\x05\\xa1\\x00\\xa4bid\\x00kpacket_size\\x19\\x10\\x00factive\\xf4hduration\\xfb?\\x84z\\xe1G\\xae\\x14{' from ('192.168.10.108', 23001) \theader:  0\n",
      "sending b'\\x01' to ('192.168.10.108', 23000) , waiting for ACK received: 0 \tloss rate: 1.0  -------\n",
      "Get ACK from ('192.168.10.108', 23001) \theader:  1\n",
      "sending b'\\x08' to ('192.168.10.108', 23000) , waiting for ACK \tpacket received: 1256 \tloss rate: 0.0  ----------\n",
      "Get ACK from ('192.168.10.108', 23001) \theader:  2\n"
     ]
    }
   ],
   "source": [
    "from RTASP import *\n",
    "import time\n",
    "\n",
    "receiver = RTASP_receiver(print=True)\n",
    "\n",
    "sensor_addr = ('192.168.10.108', 23000)\n",
    "\n",
    "receiver.discover(sensor_addr)\n",
    "\n",
    "receiver.start(sensor_addr)\n",
    "\n",
    "time.sleep(15)\n",
    "\n",
    "data = receiver.end(sensor_addr)"
   ]
  }
 ],
 "metadata": {
  "kernelspec": {
   "display_name": "base",
   "language": "python",
   "name": "python3"
  },
  "language_info": {
   "codemirror_mode": {
    "name": "ipython",
    "version": 3
   },
   "file_extension": ".py",
   "mimetype": "text/x-python",
   "name": "python",
   "nbconvert_exporter": "python",
   "pygments_lexer": "ipython3",
   "version": "3.12.2"
  }
 },
 "nbformat": 4,
 "nbformat_minor": 2
}
