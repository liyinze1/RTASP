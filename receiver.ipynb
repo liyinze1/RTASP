{
 "cells": [
  {
   "cell_type": "code",
   "execution_count": null,
   "metadata": {},
   "outputs": [
    {
     "name": "stdout",
     "output_type": "stream",
     "text": [
      "\n",
      "----------------\n",
      "total received: 0\n",
      "queue size: 0\n",
      "\n",
      "----------------\n",
      "total received: 0\n",
      "queue size: 0\n",
      "\n",
      "----------------\n",
      "total received: 0\n",
      "queue size: 0\n",
      "\n",
      "----------------\n",
      "total received: 0\n",
      "queue size: 0\n",
      "\n",
      "----------------\n",
      "total received: 0\n",
      "queue size: 0\n",
      "\n",
      "----------------\n",
      "total received: 0\n",
      "queue size: 0\n"
     ]
    }
   ],
   "source": [
    "from RTASP import *\n",
    "\n",
    "receiver = RTASP_receiver()\n",
    "\n",
    "receiver.discover(('10.147.19.81', 23000))\n"
   ]
  }
 ],
 "metadata": {
  "kernelspec": {
   "display_name": "base",
   "language": "python",
   "name": "python3"
  },
  "language_info": {
   "codemirror_mode": {
    "name": "ipython",
    "version": 3
   },
   "file_extension": ".py",
   "mimetype": "text/x-python",
   "name": "python",
   "nbconvert_exporter": "python",
   "pygments_lexer": "ipython3",
   "version": "3.11.5"
  }
 },
 "nbformat": 4,
 "nbformat_minor": 2
}
